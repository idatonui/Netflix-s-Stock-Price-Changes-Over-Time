{
 "cells": [
  {
   "cell_type": "markdown",
   "metadata": {},
   "source": [
    "# **Netflix's Stock Price Changes Over Time**"
   ]
  },
  {
   "cell_type": "markdown",
   "metadata": {},
   "source": [
    "Netflix, Inc. is an American subscription streaming service and production company founded in 1997 by Reed Hastings and Marc Randolph in Scotts Valley, California. Initially, Netflix started as a DVD rental service, pioneering the model of online rentals with no late fees. In 2007, the company transitioned into streaming media, revolutionizing the entertainment industry by offering a vast library of movies and TV shows accessible on-demand. Netflix further expanded its influence by producing original content, beginning with the series \"House of Cards\" in 2013. Today, Netflix is a global powerhouse in entertainment, with over 200 million subscribers worldwide and a diverse portfolio of acclaimed original series, films, and documentaries.\n",
    "\n",
    "This dataset provides a comprehensive record of Netflix's stock price changes over time. It includes essential columns such as the date, opening price, highest price of the day, lowest price of the day, closing price, adjusted closing price, and trading volume.\n",
    "\n",
    "This data is invaluable for conducting historical analyses, forecasting future stock performance, and understanding market trends related to Netflix's stock."
   ]
  },
  {
   "cell_type": "code",
   "execution_count": 1,
   "metadata": {},
   "outputs": [],
   "source": [
    "import pandas as pd"
   ]
  },
  {
   "cell_type": "code",
   "execution_count": 2,
   "metadata": {},
   "outputs": [],
   "source": [
    "netflix_df = pd.read_csv(\"Netflix Dataset.csv\")"
   ]
  },
  {
   "cell_type": "code",
   "execution_count": 3,
   "metadata": {},
   "outputs": [
    {
     "data": {
      "text/html": [
       "<div>\n",
       "<style scoped>\n",
       "    .dataframe tbody tr th:only-of-type {\n",
       "        vertical-align: middle;\n",
       "    }\n",
       "\n",
       "    .dataframe tbody tr th {\n",
       "        vertical-align: top;\n",
       "    }\n",
       "\n",
       "    .dataframe thead th {\n",
       "        text-align: right;\n",
       "    }\n",
       "</style>\n",
       "<table border=\"1\" class=\"dataframe\">\n",
       "  <thead>\n",
       "    <tr style=\"text-align: right;\">\n",
       "      <th></th>\n",
       "      <th>Date</th>\n",
       "      <th>Open</th>\n",
       "      <th>High</th>\n",
       "      <th>Low</th>\n",
       "      <th>Close</th>\n",
       "      <th>Adj Close</th>\n",
       "      <th>Volume</th>\n",
       "    </tr>\n",
       "  </thead>\n",
       "  <tbody>\n",
       "    <tr>\n",
       "      <th>0</th>\n",
       "      <td>2002-05-23</td>\n",
       "      <td>1.156429</td>\n",
       "      <td>1.242857</td>\n",
       "      <td>1.145714</td>\n",
       "      <td>1.196429</td>\n",
       "      <td>1.196429</td>\n",
       "      <td>104790000</td>\n",
       "    </tr>\n",
       "    <tr>\n",
       "      <th>1</th>\n",
       "      <td>2002-05-24</td>\n",
       "      <td>1.214286</td>\n",
       "      <td>1.225000</td>\n",
       "      <td>1.197143</td>\n",
       "      <td>1.210000</td>\n",
       "      <td>1.210000</td>\n",
       "      <td>11104800</td>\n",
       "    </tr>\n",
       "    <tr>\n",
       "      <th>2</th>\n",
       "      <td>2002-05-28</td>\n",
       "      <td>1.213571</td>\n",
       "      <td>1.232143</td>\n",
       "      <td>1.157143</td>\n",
       "      <td>1.157143</td>\n",
       "      <td>1.157143</td>\n",
       "      <td>6609400</td>\n",
       "    </tr>\n",
       "    <tr>\n",
       "      <th>3</th>\n",
       "      <td>2002-05-29</td>\n",
       "      <td>1.164286</td>\n",
       "      <td>1.164286</td>\n",
       "      <td>1.085714</td>\n",
       "      <td>1.103571</td>\n",
       "      <td>1.103571</td>\n",
       "      <td>6757800</td>\n",
       "    </tr>\n",
       "    <tr>\n",
       "      <th>4</th>\n",
       "      <td>2002-05-30</td>\n",
       "      <td>1.107857</td>\n",
       "      <td>1.107857</td>\n",
       "      <td>1.071429</td>\n",
       "      <td>1.071429</td>\n",
       "      <td>1.071429</td>\n",
       "      <td>10154200</td>\n",
       "    </tr>\n",
       "  </tbody>\n",
       "</table>\n",
       "</div>"
      ],
      "text/plain": [
       "         Date      Open      High       Low     Close  Adj Close     Volume\n",
       "0  2002-05-23  1.156429  1.242857  1.145714  1.196429   1.196429  104790000\n",
       "1  2002-05-24  1.214286  1.225000  1.197143  1.210000   1.210000   11104800\n",
       "2  2002-05-28  1.213571  1.232143  1.157143  1.157143   1.157143    6609400\n",
       "3  2002-05-29  1.164286  1.164286  1.085714  1.103571   1.103571    6757800\n",
       "4  2002-05-30  1.107857  1.107857  1.071429  1.071429   1.071429   10154200"
      ]
     },
     "execution_count": 3,
     "metadata": {},
     "output_type": "execute_result"
    }
   ],
   "source": [
    "netflix_df.head()"
   ]
  },
  {
   "cell_type": "code",
   "execution_count": 4,
   "metadata": {},
   "outputs": [
    {
     "data": {
      "text/html": [
       "<div>\n",
       "<style scoped>\n",
       "    .dataframe tbody tr th:only-of-type {\n",
       "        vertical-align: middle;\n",
       "    }\n",
       "\n",
       "    .dataframe tbody tr th {\n",
       "        vertical-align: top;\n",
       "    }\n",
       "\n",
       "    .dataframe thead th {\n",
       "        text-align: right;\n",
       "    }\n",
       "</style>\n",
       "<table border=\"1\" class=\"dataframe\">\n",
       "  <thead>\n",
       "    <tr style=\"text-align: right;\">\n",
       "      <th></th>\n",
       "      <th>Date</th>\n",
       "      <th>Open</th>\n",
       "      <th>High</th>\n",
       "      <th>Low</th>\n",
       "      <th>Close</th>\n",
       "      <th>Adj Close</th>\n",
       "      <th>Volume</th>\n",
       "    </tr>\n",
       "  </thead>\n",
       "  <tbody>\n",
       "    <tr>\n",
       "      <th>5535</th>\n",
       "      <td>2024-05-20</td>\n",
       "      <td>620.400024</td>\n",
       "      <td>644.369995</td>\n",
       "      <td>619.520020</td>\n",
       "      <td>640.820007</td>\n",
       "      <td>640.820007</td>\n",
       "      <td>3857900</td>\n",
       "    </tr>\n",
       "    <tr>\n",
       "      <th>5536</th>\n",
       "      <td>2024-05-21</td>\n",
       "      <td>636.760010</td>\n",
       "      <td>650.880005</td>\n",
       "      <td>634.219971</td>\n",
       "      <td>650.609985</td>\n",
       "      <td>650.609985</td>\n",
       "      <td>2920200</td>\n",
       "    </tr>\n",
       "    <tr>\n",
       "      <th>5537</th>\n",
       "      <td>2024-05-22</td>\n",
       "      <td>647.140015</td>\n",
       "      <td>649.250000</td>\n",
       "      <td>638.119995</td>\n",
       "      <td>640.469971</td>\n",
       "      <td>640.469971</td>\n",
       "      <td>2176200</td>\n",
       "    </tr>\n",
       "    <tr>\n",
       "      <th>5538</th>\n",
       "      <td>2024-05-23</td>\n",
       "      <td>642.340027</td>\n",
       "      <td>642.710022</td>\n",
       "      <td>630.000000</td>\n",
       "      <td>635.669983</td>\n",
       "      <td>635.669983</td>\n",
       "      <td>2313900</td>\n",
       "    </tr>\n",
       "    <tr>\n",
       "      <th>5539</th>\n",
       "      <td>2024-05-24</td>\n",
       "      <td>639.400024</td>\n",
       "      <td>652.000000</td>\n",
       "      <td>637.599976</td>\n",
       "      <td>646.750000</td>\n",
       "      <td>646.750000</td>\n",
       "      <td>2613300</td>\n",
       "    </tr>\n",
       "  </tbody>\n",
       "</table>\n",
       "</div>"
      ],
      "text/plain": [
       "            Date        Open        High         Low       Close   Adj Close  \\\n",
       "5535  2024-05-20  620.400024  644.369995  619.520020  640.820007  640.820007   \n",
       "5536  2024-05-21  636.760010  650.880005  634.219971  650.609985  650.609985   \n",
       "5537  2024-05-22  647.140015  649.250000  638.119995  640.469971  640.469971   \n",
       "5538  2024-05-23  642.340027  642.710022  630.000000  635.669983  635.669983   \n",
       "5539  2024-05-24  639.400024  652.000000  637.599976  646.750000  646.750000   \n",
       "\n",
       "       Volume  \n",
       "5535  3857900  \n",
       "5536  2920200  \n",
       "5537  2176200  \n",
       "5538  2313900  \n",
       "5539  2613300  "
      ]
     },
     "execution_count": 4,
     "metadata": {},
     "output_type": "execute_result"
    }
   ],
   "source": [
    "netflix_df.tail()"
   ]
  },
  {
   "cell_type": "code",
   "execution_count": 5,
   "metadata": {},
   "outputs": [
    {
     "data": {
      "text/plain": [
       "(5540, 7)"
      ]
     },
     "execution_count": 5,
     "metadata": {},
     "output_type": "execute_result"
    }
   ],
   "source": [
    "netflix_df.shape"
   ]
  },
  {
   "cell_type": "code",
   "execution_count": 7,
   "metadata": {},
   "outputs": [
    {
     "name": "stdout",
     "output_type": "stream",
     "text": [
      "<class 'pandas.core.frame.DataFrame'>\n",
      "RangeIndex: 5540 entries, 0 to 5539\n",
      "Data columns (total 7 columns):\n",
      " #   Column     Non-Null Count  Dtype  \n",
      "---  ------     --------------  -----  \n",
      " 0   Date       5540 non-null   object \n",
      " 1   Open       5540 non-null   float64\n",
      " 2   High       5540 non-null   float64\n",
      " 3   Low        5540 non-null   float64\n",
      " 4   Close      5540 non-null   float64\n",
      " 5   Adj Close  5540 non-null   float64\n",
      " 6   Volume     5540 non-null   int64  \n",
      "dtypes: float64(5), int64(1), object(1)\n",
      "memory usage: 303.1+ KB\n"
     ]
    }
   ],
   "source": [
    "netflix_df.info()"
   ]
  },
  {
   "cell_type": "code",
   "execution_count": 12,
   "metadata": {},
   "outputs": [
    {
     "data": {
      "text/plain": [
       "Index(['Date', 'Open', 'High', 'Low', 'Close', 'Adj Close', 'Volume'], dtype='object')"
      ]
     },
     "execution_count": 12,
     "metadata": {},
     "output_type": "execute_result"
    }
   ],
   "source": [
    "netflix_df.columns"
   ]
  },
  {
   "cell_type": "code",
   "execution_count": 13,
   "metadata": {},
   "outputs": [
    {
     "data": {
      "text/plain": [
       "RangeIndex(start=0, stop=5540, step=1)"
      ]
     },
     "execution_count": 13,
     "metadata": {},
     "output_type": "execute_result"
    }
   ],
   "source": [
    "netflix_df.index"
   ]
  },
  {
   "cell_type": "code",
   "execution_count": 14,
   "metadata": {},
   "outputs": [
    {
     "data": {
      "text/plain": [
       "array([['2002-05-23', 1.156429, 1.242857, ..., 1.196429, 1.196429,\n",
       "        104790000],\n",
       "       ['2002-05-24', 1.214286, 1.225, ..., 1.21, 1.21, 11104800],\n",
       "       ['2002-05-28', 1.213571, 1.232143, ..., 1.157143, 1.157143,\n",
       "        6609400],\n",
       "       ...,\n",
       "       ['2024-05-22', 647.140015, 649.25, ..., 640.469971, 640.469971,\n",
       "        2176200],\n",
       "       ['2024-05-23', 642.340027, 642.710022, ..., 635.669983,\n",
       "        635.669983, 2313900],\n",
       "       ['2024-05-24', 639.400024, 652.0, ..., 646.75, 646.75, 2613300]],\n",
       "      dtype=object)"
      ]
     },
     "execution_count": 14,
     "metadata": {},
     "output_type": "execute_result"
    }
   ],
   "source": [
    "netflix_df.values"
   ]
  },
  {
   "cell_type": "code",
   "execution_count": 15,
   "metadata": {},
   "outputs": [
    {
     "data": {
      "text/html": [
       "<div>\n",
       "<style scoped>\n",
       "    .dataframe tbody tr th:only-of-type {\n",
       "        vertical-align: middle;\n",
       "    }\n",
       "\n",
       "    .dataframe tbody tr th {\n",
       "        vertical-align: top;\n",
       "    }\n",
       "\n",
       "    .dataframe thead th {\n",
       "        text-align: right;\n",
       "    }\n",
       "</style>\n",
       "<table border=\"1\" class=\"dataframe\">\n",
       "  <thead>\n",
       "    <tr style=\"text-align: right;\">\n",
       "      <th></th>\n",
       "      <th>Open</th>\n",
       "      <th>High</th>\n",
       "      <th>Low</th>\n",
       "      <th>Close</th>\n",
       "      <th>Adj Close</th>\n",
       "      <th>Volume</th>\n",
       "    </tr>\n",
       "  </thead>\n",
       "  <tbody>\n",
       "    <tr>\n",
       "      <th>count</th>\n",
       "      <td>5540.000000</td>\n",
       "      <td>5540.000000</td>\n",
       "      <td>5540.000000</td>\n",
       "      <td>5540.000000</td>\n",
       "      <td>5540.000000</td>\n",
       "      <td>5.540000e+03</td>\n",
       "    </tr>\n",
       "    <tr>\n",
       "      <th>mean</th>\n",
       "      <td>140.532640</td>\n",
       "      <td>142.672456</td>\n",
       "      <td>138.337011</td>\n",
       "      <td>140.561354</td>\n",
       "      <td>140.561354</td>\n",
       "      <td>1.569438e+07</td>\n",
       "    </tr>\n",
       "    <tr>\n",
       "      <th>std</th>\n",
       "      <td>182.387899</td>\n",
       "      <td>184.938036</td>\n",
       "      <td>179.723418</td>\n",
       "      <td>182.376297</td>\n",
       "      <td>182.376297</td>\n",
       "      <td>1.862414e+07</td>\n",
       "    </tr>\n",
       "    <tr>\n",
       "      <th>min</th>\n",
       "      <td>0.377857</td>\n",
       "      <td>0.410714</td>\n",
       "      <td>0.346429</td>\n",
       "      <td>0.372857</td>\n",
       "      <td>0.372857</td>\n",
       "      <td>2.856000e+05</td>\n",
       "    </tr>\n",
       "    <tr>\n",
       "      <th>25%</th>\n",
       "      <td>4.165893</td>\n",
       "      <td>4.245714</td>\n",
       "      <td>4.080000</td>\n",
       "      <td>4.163036</td>\n",
       "      <td>4.163036</td>\n",
       "      <td>5.751000e+06</td>\n",
       "    </tr>\n",
       "    <tr>\n",
       "      <th>50%</th>\n",
       "      <td>35.942858</td>\n",
       "      <td>36.778572</td>\n",
       "      <td>35.346429</td>\n",
       "      <td>36.154285</td>\n",
       "      <td>36.154285</td>\n",
       "      <td>9.830450e+06</td>\n",
       "    </tr>\n",
       "    <tr>\n",
       "      <th>75%</th>\n",
       "      <td>282.360008</td>\n",
       "      <td>287.464989</td>\n",
       "      <td>275.742500</td>\n",
       "      <td>282.892502</td>\n",
       "      <td>282.892502</td>\n",
       "      <td>1.859220e+07</td>\n",
       "    </tr>\n",
       "    <tr>\n",
       "      <th>max</th>\n",
       "      <td>692.349976</td>\n",
       "      <td>700.989990</td>\n",
       "      <td>686.090027</td>\n",
       "      <td>691.690002</td>\n",
       "      <td>691.690002</td>\n",
       "      <td>3.234140e+08</td>\n",
       "    </tr>\n",
       "  </tbody>\n",
       "</table>\n",
       "</div>"
      ],
      "text/plain": [
       "              Open         High          Low        Close    Adj Close  \\\n",
       "count  5540.000000  5540.000000  5540.000000  5540.000000  5540.000000   \n",
       "mean    140.532640   142.672456   138.337011   140.561354   140.561354   \n",
       "std     182.387899   184.938036   179.723418   182.376297   182.376297   \n",
       "min       0.377857     0.410714     0.346429     0.372857     0.372857   \n",
       "25%       4.165893     4.245714     4.080000     4.163036     4.163036   \n",
       "50%      35.942858    36.778572    35.346429    36.154285    36.154285   \n",
       "75%     282.360008   287.464989   275.742500   282.892502   282.892502   \n",
       "max     692.349976   700.989990   686.090027   691.690002   691.690002   \n",
       "\n",
       "             Volume  \n",
       "count  5.540000e+03  \n",
       "mean   1.569438e+07  \n",
       "std    1.862414e+07  \n",
       "min    2.856000e+05  \n",
       "25%    5.751000e+06  \n",
       "50%    9.830450e+06  \n",
       "75%    1.859220e+07  \n",
       "max    3.234140e+08  "
      ]
     },
     "execution_count": 15,
     "metadata": {},
     "output_type": "execute_result"
    }
   ],
   "source": [
    "netflix_df.describe()"
   ]
  },
  {
   "cell_type": "code",
   "execution_count": null,
   "metadata": {},
   "outputs": [],
   "source": []
  }
 ],
 "metadata": {
  "kernelspec": {
   "display_name": "learn-env",
   "language": "python",
   "name": "python3"
  },
  "language_info": {
   "codemirror_mode": {
    "name": "ipython",
    "version": 3
   },
   "file_extension": ".py",
   "mimetype": "text/x-python",
   "name": "python",
   "nbconvert_exporter": "python",
   "pygments_lexer": "ipython3",
   "version": "3.10.13"
  }
 },
 "nbformat": 4,
 "nbformat_minor": 2
}
